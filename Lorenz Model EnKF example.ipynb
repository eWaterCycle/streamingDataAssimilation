{
 "cells": [
  {
   "cell_type": "code",
   "execution_count": 1,
   "metadata": {},
   "outputs": [],
   "source": [
    "#required libraries and settings\n",
    "%matplotlib inline\n",
    "import numpy as np\n",
    "import pandas as pd\n",
    "import matplotlib.pyplot as plt\n",
    "import yaml\n",
    "import io\n",
    "import math\n",
    "\n",
    "import BMILorenz"
   ]
  },
  {
   "cell_type": "code",
   "execution_count": 2,
   "metadata": {},
   "outputs": [],
   "source": [
    "#settings\n",
    "\n",
    "J = 10 #dimension of Lorenz Model\n",
    "observationSigma = 0.1 #standard deviation of the observations\n"
   ]
  },
  {
   "cell_type": "code",
   "execution_count": 3,
   "metadata": {},
   "outputs": [],
   "source": [
    "#initialize the model\n",
    "J = 10 #dimension of Lorenz Model\n",
    "\n",
    "#make a starting state vector\n",
    "commonStartState = np.zeros(J)\n",
    "commonStartState[5]=0.01\n",
    "\n",
    "# Define settings data\n",
    "settings = {'J': J,\n",
    "            'F': 8.0,\n",
    "            'startTime': 0.0,\n",
    "            'endTime': 10.0,\n",
    "            'dt':1e-3,\n",
    "            'startState': commonStartState}\n",
    "\n",
    "# Write YAML file\n",
    "with io.open('settings.yaml', 'w', encoding='utf8') as outfile:\n",
    "    yaml.dump(settings, outfile, default_flow_style=False, allow_unicode=True)"
   ]
  },
  {
   "cell_type": "code",
   "execution_count": 4,
   "metadata": {},
   "outputs": [],
   "source": [
    "N = 40 #numeber of ensemble members\n",
    "\n",
    "p = 0.99\n",
    "#start with  an empty ensemble\n",
    "ensemble = []\n",
    "\n",
    "\n",
    "#create and initialize an instance of the BMILorenz class\n",
    "truthModel = BMILorenz.BMILorenz ()\n",
    "truthModel.initialize('settings.yaml')\n",
    "\n",
    "output = pd.DataFrame(columns = ['truth','observation'])\n",
    "\n",
    "for n in range (N):\n",
    "    #add an ensemble methods\n",
    "    ensemble.append(BMILorenz.BMILorenz ())\n",
    "    ensemble[n].initialize('settings.yaml')\n",
    "    ensemble[n].set_value_at_indices('state',5,ensemble[n].get_value_at_indices('state',5) + np.random.randn(1)*0.01)\n",
    "    \n",
    "    #also add a column to the output dataframe to store the output\n",
    "    output['ensemble' + str(n)]= np.nan\n",
    "    \n",
    " "
   ]
  },
  {
   "cell_type": "code",
   "execution_count": 5,
   "metadata": {},
   "outputs": [],
   "source": [
    "def H(state):\n",
    "    return state\n",
    "\n",
    "def EnKF(ensembleForecast, observationEnsemble, transformation):\n",
    "    #use notation from Evenson 2003.\n",
    "    A=ensembleForecast\n",
    "    D=observationEnsemble\n",
    "    H=transformation\n",
    "    N=np.shape(A)[1]\n",
    "\n",
    "    Apr = A @ (np.eye(N)-(1/N)*np.ones(N))\n",
    "    Dpr = D - H(A)\n",
    "    gamma=D @ (np.eye(N)-(1/N)*np.ones(N))\n",
    "\n",
    "\n",
    "    #now calculate [U,S,V]=SVD(H*Apr+gamma)\n",
    "    Utemp,Sigma,vH = np.linalg.svd(H(Apr)+gamma)\n",
    "    #only keep p % of singular values, discard minimum of 1.\n",
    "    pN = max(1, math.floor(N * (1-p)))\n",
    "\n",
    "    U=np.zeros([np.shape(D)[0],N])\n",
    "\n",
    "    U[0:(np.shape(Utemp)[0]),0:min((np.shape(Utemp)[1]-pN-1),np.shape(U)[1]-pN-1)]=Utemp[:,0:min((np.shape(Utemp)[1]-pN-1),np.shape(U)[1]-pN-1)]\n",
    "\n",
    "    Sigma=np.diag(Sigma) @ np.diag(Sigma).T\n",
    "    Sigma = np.power(np.diag(Sigma),-1)\n",
    "    Sigma[-pN:] = 0\n",
    "    LambdaInv = np.zeros([N,N])\n",
    "    LambdaInv[0:np.shape(Sigma)[0],0:np.shape(Sigma)[0]]=np.diag(Sigma)\n",
    "\n",
    "    X1=LambdaInv @ U.T\n",
    "    X2=X1 @ Dpr\n",
    "    X3=U @ X2\n",
    "    X4=H(Apr).T @ X3\n",
    "    ensembleAnalyses = A + Apr @ X4\n",
    "    return ensembleAnalyses"
   ]
  },
  {
   "cell_type": "code",
   "execution_count": 6,
   "metadata": {},
   "outputs": [],
   "source": [
    "#spin up the Ensemble. \n",
    "\n",
    "while truthModel.get_current_time()< 2.5:\n",
    "    \n",
    "    truthModel.update()\n",
    "    output.loc[truthModel.get_current_time(),'truth'] = truthModel.get_value_at_indices('state',5)\n",
    "    \n",
    "    observation = truthModel.get_value('state') + observationSigma * np.random.randn(J)\n",
    "    output.at[truthModel.get_current_time(),'observation'] = observation[5]\n",
    "    \n",
    "    #loop through the ensemble members and store the state after each update\n",
    "    for n in range (N):\n",
    "        ensemble[n].update()\n",
    "        output.at[ensemble[n].get_current_time(),'ensemble' + str(n)] = ensemble[n].get_value_at_indices('state',5)\n",
    "        \n",
    "    #TODO update observation on bases of observation\n",
    "    \n",
    "    #TODO track statistics metrics\n"
   ]
  },
  {
   "cell_type": "code",
   "execution_count": 7,
   "metadata": {},
   "outputs": [],
   "source": [
    "#run \n",
    "\n",
    "foreCastEnsemble = np.zeros([J,N])\n",
    "observationEnsemble = np.zeros([J,N])\n",
    "updateTime = 2.5\n",
    "updateInterval = 0.5\n",
    "\n",
    "while truthModel.get_current_time()<truthModel.get_end_time():\n",
    "#for n in range (1):\n",
    "    truthModel.update()\n",
    "    output.loc[truthModel.get_current_time(),'truth'] = truthModel.get_value_at_indices('state',5)\n",
    "    \n",
    "    observation = truthModel.get_value('state') + observationSigma * np.random.randn(J)\n",
    "    output.at[truthModel.get_current_time(),'observation'] = observation[5]\n",
    "    \n",
    "    \n",
    "\n",
    "    #loop through the ensemble members and store the state after each update\n",
    "    for n in range (N):\n",
    "        ensemble[n].update()\n",
    "        foreCastEnsemble[:,n] = ensemble[n].get_value('state')\n",
    "        observationEnsemble[:,n] = observation + observationSigma*np.random.randn(J)\n",
    "        output.at[ensemble[n].get_current_time(),'ensemble' + str(n)] = ensemble[n].get_value_at_indices('state',5)\n",
    "        \n",
    "    #TODO update ensemble on bases of observation\n",
    "    if truthModel.get_current_time() > updateTime:\n",
    "        updateTime = updateTime + updateInterval\n",
    "        analysesEnsemble = EnKF(foreCastEnsemble,observationEnsemble,H)\n",
    "        np.clip(analysesEnsemble, -10, 20, out=analysesEnsemble)\n",
    "\n",
    "        for n in range (N):\n",
    "            ensemble[n].set_value('state',analysesEnsemble[:,n])\n",
    "    \n",
    "    \n",
    "    #TODO track statistics metrics\n"
   ]
  },
  {
   "cell_type": "code",
   "execution_count": 8,
   "metadata": {},
   "outputs": [
    {
     "data": {
      "text/plain": [
       "8.597739599456984"
      ]
     },
     "execution_count": 8,
     "metadata": {},
     "output_type": "execute_result"
    }
   ],
   "source": [
    "np.amax(analysesEnsemble)"
   ]
  },
  {
   "cell_type": "code",
   "execution_count": 9,
   "metadata": {},
   "outputs": [
    {
     "data": {
      "text/plain": [
       "10.000999999999896"
      ]
     },
     "execution_count": 9,
     "metadata": {},
     "output_type": "execute_result"
    }
   ],
   "source": [
    "truthModel.get_current_time()"
   ]
  },
  {
   "cell_type": "code",
   "execution_count": 10,
   "metadata": {},
   "outputs": [
    {
     "data": {
      "image/png": "[encoded data removed]",
      "text/plain": [
       "<Figure size 432x288 with 1 Axes>"
      ]
     },
     "metadata": {
      "needs_background": "light"
     },
     "output_type": "display_data"
    }
   ],
   "source": [
    "plt.plot(output.loc[0:10,'ensemble0':],'k')\n",
    "plt.plot(output.loc[0:10,'observation'],'r')\n",
    "plt.plot(output.loc[0:10,'truth'],'g')\n",
    "\n",
    "plt.show()"
   ]
  },
  {
   "cell_type": "code",
   "execution_count": null,
   "metadata": {},
   "outputs": [],
   "source": []
  }
 ],
 "metadata": {
  "kernelspec": {
   "display_name": "Python 3",
   "language": "python",
   "name": "python3"
  },
  "language_info": {
   "codemirror_mode": {
    "name": "ipython",
    "version": 3
   },
   "file_extension": ".py",
   "mimetype": "text/x-python",
   "name": "python",
   "nbconvert_exporter": "python",
   "pygments_lexer": "ipython3",
   "version": "3.7.1"
  }
 },
 "nbformat": 4,
 "nbformat_minor": 2
}
