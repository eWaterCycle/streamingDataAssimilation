{
 "cells": [
  {
   "cell_type": "markdown",
   "metadata": {},
   "source": [
    "# Incremental Principal Component Analysis (IPCA) example\n",
    "why?"
   ]
  },
  {
   "cell_type": "code",
   "execution_count": 1,
   "metadata": {},
   "outputs": [],
   "source": [
    "%matplotlib inline\n",
    "import matplotlib.pyplot as plt\n",
    "import math\n",
    "import numpy as np\n",
    "from sklearn.decomposition import IncrementalPCA\n",
    "from sklearn.decomposition import PCA\n",
    "\n",
    "\n",
    "\n"
   ]
  },
  {
   "cell_type": "code",
   "execution_count": 32,
   "metadata": {},
   "outputs": [
    {
     "data": {
      "text/plain": [
       "(-232.69988910835326,\n",
       " 197.6122505228443,\n",
       " -117.29042502701643,\n",
       " 100.6047792590273)"
      ]
     },
     "execution_count": 32,
     "metadata": {},
     "output_type": "execute_result"
    },
    {
     "data": {
      "image/png": "[encoded data removed]",
      "text/plain": [
       "<Figure size 432x288 with 1 Axes>"
      ]
     },
     "metadata": {
      "needs_background": "light"
     },
     "output_type": "display_data"
    }
   ],
   "source": [
    "\n",
    "# 2D point set in the shape of an ellipse\n",
    "rotDegree = -30\n",
    "X = np.array([60*np.random.randn(1000), 5*np.random.randn(1000)]).transpose()\n",
    "rot = np.array( [[math.cos(math.radians(rotDegree)), -math.sin(math.radians(rotDegree))],\n",
    "              [math.sin(math.radians(rotDegree)),  math.cos(math.radians(rotDegree))]] )\n",
    "Xrot = np.dot(X,rot)\n",
    "\n",
    "plt.scatter(X[:,0],X[:,1])\n",
    "plt.scatter(Xrot[:,0],Xrot[:,1])\n",
    "plt.axis('equal')\n"
   ]
  },
  {
   "cell_type": "code",
   "execution_count": 33,
   "metadata": {},
   "outputs": [],
   "source": [
    "iPCA_d = IncrementalPCA(n_components=2, batch_size = 2)\n",
    "PCA_d = PCA(n_components=2)\n",
    "\n",
    "PCA_d.fit(Xrot)\n",
    "\n",
    "for index in range(math.floor(len(X)/2)):\n",
    "\n",
    "    iPCA_d.partial_fit(Xrot[(2*index):(2*(index+1)),:])\n",
    "    \n"
   ]
  },
  {
   "cell_type": "code",
   "execution_count": 34,
   "metadata": {},
   "outputs": [
    {
     "data": {
      "text/plain": [
       "array([43.1186137 , 12.72266571])"
      ]
     },
     "execution_count": 34,
     "metadata": {},
     "output_type": "execute_result"
    }
   ],
   "source": [
    "basis = np.array([[0,1],[1,0]])\n",
    "PCA_d.singular_values_ ** (1/2)"
   ]
  },
  {
   "cell_type": "code",
   "execution_count": 20,
   "metadata": {},
   "outputs": [
    {
     "data": {
      "text/plain": [
       "array([98.23093987,  9.75089623])"
      ]
     },
     "execution_count": 20,
     "metadata": {},
     "output_type": "execute_result"
    }
   ],
   "source": []
  },
  {
   "cell_type": "code",
   "execution_count": null,
   "metadata": {},
   "outputs": [],
   "source": [
    "Yi = iPCA_d.transform(X)\n",
    "Y =PCA_d.inverse_transform(X)\n",
    "plt.scatter(X[:,0],X[:,1],color='r')\n",
    "plt.scatter(Xrot[:,0],Xrot[:,1],color='b')\n",
    "plt.scatter(Yi[:,0],Yi[:,1],color='g')\n",
    "plt.scatter(Y[:,0],Y[:,1],color='y')"
   ]
  },
  {
   "cell_type": "code",
   "execution_count": null,
   "metadata": {},
   "outputs": [],
   "source": [
    "transformer.partial_fit(X[100:200, :])"
   ]
  },
  {
   "cell_type": "code",
   "execution_count": null,
   "metadata": {},
   "outputs": [],
   "source": [
    "len(X)"
   ]
  },
  {
   "cell_type": "code",
   "execution_count": null,
   "metadata": {},
   "outputs": [],
   "source": []
  }
 ],
 "metadata": {
  "kernelspec": {
   "display_name": "Python 3",
   "language": "python",
   "name": "python3"
  },
  "language_info": {
   "codemirror_mode": {
    "name": "ipython",
    "version": 3
   },
   "file_extension": ".py",
   "mimetype": "text/x-python",
   "name": "python",
   "nbconvert_exporter": "python",
   "pygments_lexer": "ipython3",
   "version": "3.7.1"
  }
 },
 "nbformat": 4,
 "nbformat_minor": 2
}
