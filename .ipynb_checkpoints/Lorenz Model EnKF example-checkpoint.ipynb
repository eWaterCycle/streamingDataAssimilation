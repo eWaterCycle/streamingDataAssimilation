{
 "cells": [
  {
   "cell_type": "code",
   "execution_count": 1,
   "metadata": {},
   "outputs": [],
   "source": [
    "#required libraries and settings\n",
    "%matplotlib inline\n",
    "import numpy as np\n",
    "import pandas as pd\n",
    "import matplotlib.pyplot as plt\n",
    "import yaml\n",
    "import io\n",
    "import math\n",
    "\n",
    "import BMILorenz"
   ]
  },
  {
   "cell_type": "code",
   "execution_count": 2,
   "metadata": {},
   "outputs": [],
   "source": [
    "#settings\n",
    "\n",
    "#model\n",
    "J = 40 #dimension of Lorenz-96 Model\n",
    "commonStartState = np.zeros(J) #start-vector\n",
    "commonStartState[5]=0.01\n",
    "\n",
    "# Define settings data\n",
    "settings = {'J': J,\n",
    "            'F': 8.0,\n",
    "            'startTime': 0.0,\n",
    "            'endTime': 10.0,\n",
    "            'dt':1e-3,\n",
    "            'startState': commonStartState}\n",
    "\n",
    "#time needed to speed up the model and get divergence of the ensemble \n",
    "spinUpTime = 3\n",
    "\n",
    "\n",
    "#Observations\n",
    "observationSigma = 0.1 #standard deviation of the observations\n",
    "obsVector = range(20) #only observe half of the state\n",
    "obsSize = len(obsVector);\n",
    "def H(state):\n",
    "    return state[obsVector]\n",
    "\n",
    "\n",
    "#Ensemble Kalman Filter\n",
    "N = 100 #numeber of ensemble members, needs to be higher than dimension of model for stability, since no inflation is implementedn\n",
    "updateInterval = 1 #how often is the ensemble updated with observations\n",
    "\n",
    "#output state for plotting\n",
    "plotState = 0 #which state of the model (both truth and ensemble) to plot\n",
    "obsPlotState = 0 #which state of the observations to plot"
   ]
  },
  {
   "cell_type": "code",
   "execution_count": 3,
   "metadata": {},
   "outputs": [],
   "source": [
    "# Write YAML setting file for BMI model\n",
    "with io.open('settings.yaml', 'w', encoding='utf8') as outfile:\n",
    "    yaml.dump(settings, outfile, default_flow_style=False, allow_unicode=True)"
   ]
  },
  {
   "cell_type": "code",
   "execution_count": 4,
   "metadata": {},
   "outputs": [],
   "source": [
    "#start with  an empty ensemble\n",
    "ensemble = []\n",
    "\n",
    "\n",
    "#create and initialize an instance of the BMILorenz class\n",
    "truthModel = BMILorenz.BMILorenz ()\n",
    "truthModel.initialize('settings.yaml')\n",
    "\n",
    "output = pd.DataFrame(columns = ['truth','observation'])\n",
    "\n",
    "for n in range (N):\n",
    "    #add an ensemble methods\n",
    "    ensemble.append(BMILorenz.BMILorenz ())\n",
    "    ensemble[n].initialize('settings.yaml')\n",
    "    ensemble[n].set_value_at_indices('state',5,ensemble[n].get_value_at_indices('state',5) + np.random.randn(1)*0.01)\n",
    "    \n",
    "    #also add a column to the output dataframe to store the output\n",
    "    output['ensemble' + str(n)]= np.nan\n",
    "    \n",
    " "
   ]
  },
  {
   "cell_type": "code",
   "execution_count": 5,
   "metadata": {},
   "outputs": [],
   "source": [
    "def EnKF(ensembleForecast, observationEnsemble, transformation):\n",
    "    #use notation from Evenson 2003.\n",
    "    \n",
    "    p = 0.99 # % of Eigenvectors to include in svd method to ensure stability.\n",
    "\n",
    "    A=ensembleForecast\n",
    "    D=observationEnsemble\n",
    "    H=transformation\n",
    "    N=np.shape(A)[1]\n",
    "\n",
    "    Apr = A @ (np.eye(N)-(1/N)*np.ones(N))\n",
    "    Dpr = D - H(A)\n",
    "    gamma=D @ (np.eye(N)-(1/N)*np.ones(N))\n",
    "\n",
    "\n",
    "    #now calculate [U,S,V]=SVD(H*Apr+gamma)\n",
    "    Utemp,Sigma,vH = np.linalg.svd(H(Apr)+gamma)\n",
    "    #only keep p % of singular values, discard minimum of 1.\n",
    "    pN = max(1, math.floor(N * (1-p)))\n",
    "\n",
    "    U=np.zeros([np.shape(D)[0],N])\n",
    "\n",
    "    U[0:(np.shape(Utemp)[0]),0:min((np.shape(Utemp)[1]-pN-1),np.shape(U)[1]-pN-1)]=Utemp[:,0:min((np.shape(Utemp)[1]-pN-1),np.shape(U)[1]-pN-1)]\n",
    "\n",
    "    Sigma=np.diag(Sigma) @ np.diag(Sigma).T\n",
    "    Sigma = np.power(np.diag(Sigma),-1)\n",
    "    Sigma[-pN:] = 0\n",
    "    LambdaInv = np.zeros([N,N])\n",
    "    LambdaInv[0:np.shape(Sigma)[0],0:np.shape(Sigma)[0]]=np.diag(Sigma)\n",
    "\n",
    "    X1=LambdaInv @ U.T\n",
    "    X2=X1 @ Dpr\n",
    "    X3=U @ X2\n",
    "    X4=H(Apr).T @ X3\n",
    "    ensembleAnalyses = A + Apr @ X4\n",
    "    return ensembleAnalyses"
   ]
  },
  {
   "cell_type": "code",
   "execution_count": 6,
   "metadata": {},
   "outputs": [],
   "source": [
    "#spin up the Ensemble. \n",
    "\n",
    "while truthModel.get_current_time()< spinUpTime:\n",
    "    \n",
    "    truthModel.update()\n",
    "    output.loc[truthModel.get_current_time(),'truth'] = truthModel.get_value_at_indices('state',plotState)\n",
    "    \n",
    "    observation = truthModel.get_value('state') + observationSigma * np.random.randn(J)\n",
    "    output.at[truthModel.get_current_time(),'observation'] = observation[plotState]\n",
    "    \n",
    "    #loop through the ensemble members and store the state after each update\n",
    "    for n in range (N):\n",
    "        ensemble[n].update()\n",
    "        output.at[ensemble[n].get_current_time(),'ensemble' + str(n)] = ensemble[n].get_value_at_indices('state',plotState)\n",
    "        \n",
    "    #TODO update observation on bases of observation\n",
    "    \n",
    "    #TODO track statistics metrics\n",
    "    \n",
    "updateTime = spinUpTime\n"
   ]
  },
  {
   "cell_type": "code",
   "execution_count": 7,
   "metadata": {},
   "outputs": [],
   "source": [
    "#run \n",
    "\n",
    "foreCastEnsemble = np.zeros([J,N])\n",
    "observationEnsemble = np.zeros([obsSize,N])\n",
    "\n",
    "while truthModel.get_current_time()<truthModel.get_end_time():\n",
    "    truthModel.update()\n",
    "    output.loc[truthModel.get_current_time(),'truth'] = truthModel.get_value_at_indices('state',plotState)\n",
    "    \n",
    "    observation = H(truthModel.get_value('state')) + observationSigma * np.random.randn(obsSize)\n",
    "    output.at[truthModel.get_current_time(),'observation'] = observation[plotState]\n",
    "    \n",
    "    \n",
    "\n",
    "    #loop through the ensemble members and store the state after each update\n",
    "    for n in range (N):\n",
    "        ensemble[n].update()\n",
    "        foreCastEnsemble[:,n] = ensemble[n].get_value('state')\n",
    "        observationEnsemble[:,n] = observation + observationSigma*np.random.randn(obsSize)\n",
    "        output.at[ensemble[n].get_current_time(),'ensemble' + str(n)] = ensemble[n].get_value_at_indices('state',plotState)\n",
    "        \n",
    "    #TODO update ensemble on bases of observation\n",
    "    if truthModel.get_current_time() > updateTime:\n",
    "        updateTime = updateTime + updateInterval\n",
    "        analysesEnsemble = EnKF(foreCastEnsemble,observationEnsemble,H)\n",
    "        np.clip(analysesEnsemble, -10, 20, out=analysesEnsemble)\n",
    "\n",
    "        for n in range (N):\n",
    "            ensemble[n].set_value('state',analysesEnsemble[:,n])\n",
    "    \n",
    "    \n",
    "    #TODO track statistics metrics\n"
   ]
  },
  {
   "cell_type": "code",
   "execution_count": 8,
   "metadata": {},
   "outputs": [
    {
     "data": {
      "image/png": "[encoded data removed]",
      "text/plain": [
       "<Figure size 432x288 with 1 Axes>"
      ]
     },
     "metadata": {
      "needs_background": "light"
     },
     "output_type": "display_data"
    }
   ],
   "source": [
    "plt.plot(output.loc[:,'ensemble0':],'k')\n",
    "plt.plot(output.loc[:,'observation'],'r')\n",
    "plt.plot(output.loc[:,'truth'],'g')\n",
    "\n",
    "plt.show()"
   ]
  }
 ],
 "metadata": {
  "kernelspec": {
   "display_name": "Python 3",
   "language": "python",
   "name": "python3"
  },
  "language_info": {
   "codemirror_mode": {
    "name": "ipython",
    "version": 3
   },
   "file_extension": ".py",
   "mimetype": "text/x-python",
   "name": "python",
   "nbconvert_exporter": "python",
   "pygments_lexer": "ipython3",
   "version": "3.7.1"
  }
 },
 "nbformat": 4,
 "nbformat_minor": 2
}
