{
 "cells": [
  {
   "cell_type": "code",
   "execution_count": null,
   "metadata": {},
   "outputs": [],
   "source": [
    "#required libraries and settings\n",
    "%matplotlib inline\n",
    "import numpy as np\n",
    "import pandas as pd\n",
    "import matplotlib.pyplot as plt\n",
    "import yaml\n",
    "import io\n",
    "\n",
    "import BMILorenz"
   ]
  },
  {
   "cell_type": "code",
   "execution_count": null,
   "metadata": {},
   "outputs": [],
   "source": [
    "#settings\n",
    "\n",
    "J = 40 #dimension of Lorenz Model\n",
    "observationSigma = 1.0 #standard deviation of the observations\n"
   ]
  },
  {
   "cell_type": "code",
   "execution_count": null,
   "metadata": {},
   "outputs": [],
   "source": [
    "#initialize the model\n",
    "J = 40 #dimension of Lorenz Model\n",
    "\n",
    "#make a starting state vector\n",
    "commonStartState = np.zeros(J)\n",
    "commonStartState[19]=0.01\n",
    "\n",
    "# Define settings data\n",
    "settings = {'J': J,\n",
    "            'F': 8.0,\n",
    "            'startTime': 0.0,\n",
    "            'endTime': 20.0,\n",
    "            'dt':1e-3,\n",
    "            'startState': commonStartState}\n",
    "\n",
    "# Write YAML file\n",
    "with io.open('settings.yaml', 'w', encoding='utf8') as outfile:\n",
    "    yaml.dump(settings, outfile, default_flow_style=False, allow_unicode=True)"
   ]
  },
  {
   "cell_type": "code",
   "execution_count": null,
   "metadata": {},
   "outputs": [],
   "source": [
    "N = 25 #numeber of ensemble members\n",
    "\n",
    "#start with  an empty ensemble\n",
    "ensemble = []\n",
    "\n",
    "\n",
    "#create and initialize an instance of the BMILorenz class\n",
    "truthModel = BMILorenz.BMILorenz ()\n",
    "truthModel.initialize('settings.yaml')\n",
    "\n",
    "output = pd.DataFrame(columns = ['truth','observation'])\n",
    "\n",
    "for n in range (N):\n",
    "    #add an ensemble methods\n",
    "    ensemble.append(BMILorenz.BMILorenz ())\n",
    "    ensemble[n].initialize('settings.yaml')\n",
    "    ensemble[n].set_value_at_indices('state',5,ensemble[n].get_value_at_indices('state',5) + np.random.randn(1)*0.01)\n",
    "    \n",
    "    #also add a column to the output dataframe to store the output\n",
    "    output['ensemble' + str(n)]= np.nan\n",
    "    \n",
    " "
   ]
  },
  {
   "cell_type": "code",
   "execution_count": null,
   "metadata": {},
   "outputs": [],
   "source": [
    "#run the Ensemble. \n",
    "\n",
    "while truthModel.get_current_time()<truthModel.get_end_time():\n",
    "    \n",
    "    truthModel.update()\n",
    "    \n",
    "    observation = truthModel.get_value('state') + observationSigma * np.randn(J)\n",
    "\n",
    "    #loop through the ensemble members and store the state after each update\n",
    "    for n in range (N):\n",
    "        ensemble[n].update()\n",
    "        output.at[ensemble[n].get_current_time(),'ensemble' + str(n)] = ensemble[n].get_value_at_indices('state',5)\n",
    "        \n",
    "    #TODO update observation on bases of observation\n",
    "    \n",
    "    #TODO track statistics metrics\n"
   ]
  }
 ],
 "metadata": {
  "kernelspec": {
   "display_name": "Python 3",
   "language": "python",
   "name": "python3"
  },
  "language_info": {
   "codemirror_mode": {
    "name": "ipython",
    "version": 3
   },
   "file_extension": ".py",
   "mimetype": "text/x-python",
   "name": "python",
   "nbconvert_exporter": "python",
   "pygments_lexer": "ipython3",
   "version": "3.7.1"
  }
 },
 "nbformat": 4,
 "nbformat_minor": 2
}
