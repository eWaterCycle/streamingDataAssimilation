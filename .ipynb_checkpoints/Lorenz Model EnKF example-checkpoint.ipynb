{
 "cells": [
  {
   "cell_type": "code",
   "execution_count": 1,
   "metadata": {},
   "outputs": [],
   "source": [
    "#required libraries and settings\n",
    "%matplotlib inline\n",
    "import numpy as np\n",
    "import pandas as pd\n",
    "import matplotlib.pyplot as plt\n",
    "import yaml\n",
    "import io\n",
    "import math\n",
    "\n",
    "import BMILorenz"
   ]
  },
  {
   "cell_type": "code",
   "execution_count": 2,
   "metadata": {},
   "outputs": [],
   "source": [
    "#settings\n",
    "\n",
    "J = 40 #dimension of Lorenz Model\n",
    "observationSigma = 1.0 #standard deviation of the observations\n"
   ]
  },
  {
   "cell_type": "code",
   "execution_count": 3,
   "metadata": {},
   "outputs": [],
   "source": [
    "#initialize the model\n",
    "J = 40 #dimension of Lorenz Model\n",
    "\n",
    "#make a starting state vector\n",
    "commonStartState = np.zeros(J)\n",
    "commonStartState[19]=0.01\n",
    "\n",
    "# Define settings data\n",
    "settings = {'J': J,\n",
    "            'F': 8.0,\n",
    "            'startTime': 0.0,\n",
    "            'endTime': 20.0,\n",
    "            'dt':1e-3,\n",
    "            'startState': commonStartState}\n",
    "\n",
    "# Write YAML file\n",
    "with io.open('settings.yaml', 'w', encoding='utf8') as outfile:\n",
    "    yaml.dump(settings, outfile, default_flow_style=False, allow_unicode=True)"
   ]
  },
  {
   "cell_type": "code",
   "execution_count": 4,
   "metadata": {},
   "outputs": [],
   "source": [
    "N = 25 #numeber of ensemble members\n",
    "\n",
    "p = 0.80\n",
    "#start with  an empty ensemble\n",
    "ensemble = []\n",
    "\n",
    "\n",
    "#create and initialize an instance of the BMILorenz class\n",
    "truthModel = BMILorenz.BMILorenz ()\n",
    "truthModel.initialize('settings.yaml')\n",
    "\n",
    "output = pd.DataFrame(columns = ['truth','observation'])\n",
    "\n",
    "for n in range (N):\n",
    "    #add an ensemble methods\n",
    "    ensemble.append(BMILorenz.BMILorenz ())\n",
    "    ensemble[n].initialize('settings.yaml')\n",
    "    ensemble[n].set_value_at_indices('state',5,ensemble[n].get_value_at_indices('state',5) + np.random.randn(1)*0.01)\n",
    "    \n",
    "    #also add a column to the output dataframe to store the output\n",
    "    output['ensemble' + str(n)]= np.nan\n",
    "    \n",
    " "
   ]
  },
  {
   "cell_type": "code",
   "execution_count": 5,
   "metadata": {},
   "outputs": [],
   "source": [
    "def H(state):\n",
    "    return state\n",
    "\n",
    "def EnKF(ensembleForecast, observationEnsemble, transformation):\n",
    "    #use notation from Evenson 2003.\n",
    "    A=ensembleForecast\n",
    "    D=observationEnsemble\n",
    "    H=transformation\n",
    "    N=np.shape(A)[1]\n",
    "\n",
    "    Apr = A @ (np.eye(N)-(1/N)*np.ones(N))\n",
    "    Dpr = D - H(A)\n",
    "    gamma=D @ (np.eye(N)-(1/N)*np.ones(N))\n",
    "\n",
    "\n",
    "    #now calculate [U,S,V]=SVD(H*Apr+gamma)\n",
    "    Utemp,Sigma,vH = np.linalg.svd(H(Apr)+gamma)\n",
    "    #only keep p % of singular values, discard minimum of 1.\n",
    "    pN = max(1, math.floor(N * (1-p)))\n",
    "\n",
    "    U=np.zeros([np.shape(D)[0],N])\n",
    "\n",
    "    U[0:(np.shape(Utemp)[0]),0:min((np.shape(Utemp)[1]-pN-1),np.shape(U)[1]-pN-1)]=Utemp[:,0:min((np.shape(Utemp)[1]-pN-1),np.shape(U)[1]-pN-1)]\n",
    "\n",
    "    Sigma=np.diag(Sigma) @ np.diag(Sigma).T\n",
    "    Sigma = np.power(np.diag(Sigma),-1)\n",
    "    Sigma[-pN:] = 0\n",
    "    LambdaInv = np.zeros([N,N])\n",
    "    LambdaInv[0:np.shape(Sigma)[0],0:np.shape(Sigma)[0]]=np.diag(Sigma)\n",
    "\n",
    "    X1=LambdaInv @ U.T\n",
    "    X2=X1 @ Dpr\n",
    "    X3=U @ X2\n",
    "    X4=H(Apr).T @ X3\n",
    "    ensembleAnalyses = A + Apr @ X4\n",
    "    return ensembleAnalyses"
   ]
  },
  {
   "cell_type": "code",
   "execution_count": 6,
   "metadata": {},
   "outputs": [],
   "source": [
    "#spin up the Ensemble. \n",
    "\n",
    "while truthModel.get_current_time()< 3.0:\n",
    "    \n",
    "    truthModel.update()\n",
    "    output.loc[truthModel.get_current_time()] = truthModel.get_value_at_indices('state',5)\n",
    "    \n",
    "    observation = truthModel.get_value('state') + observationSigma * np.random.randn(J)\n",
    "\n",
    "    #loop through the ensemble members and store the state after each update\n",
    "    for n in range (N):\n",
    "        ensemble[n].update()\n",
    "        output.at[ensemble[n].get_current_time(),'ensemble' + str(n)] = ensemble[n].get_value_at_indices('state',5)\n",
    "        \n",
    "    #TODO update observation on bases of observation\n",
    "    \n",
    "    #TODO track statistics metrics\n"
   ]
  },
  {
   "cell_type": "code",
   "execution_count": 45,
   "metadata": {},
   "outputs": [],
   "source": [
    "#run \n",
    "\n",
    "foreCastEnsemble = np.zeros([J,N])\n",
    "observationEnsemble = np.zeros([J,N])\n",
    "\n",
    "#while truthModel.get_current_time()<truthModel.get_end_time():\n",
    "for n in range (1):\n",
    "    truthModel.update()\n",
    "    output.loc[truthModel.get_current_time()] = truthModel.get_value_at_indices('state',5)\n",
    "    \n",
    "    observation = truthModel.get_value('state') + observationSigma * 0.1 * np.random.randn(J)\n",
    "    \n",
    "    \n",
    "\n",
    "    #loop through the ensemble members and store the state after each update\n",
    "    for n in range (N):\n",
    "        ensemble[n].update()\n",
    "        foreCastEnsemble[:,n] = ensemble[n].get_value('state')\n",
    "        observationEnsemble[:,n] = observation + np.random.randn(J)\n",
    "        output.at[ensemble[n].get_current_time(),'ensemble' + str(n)] = ensemble[n].get_value_at_indices('state',5)\n",
    "        \n",
    "    #TODO update ensemble on bases of observation\n",
    "    analysesEnsemble = EnKF(foreCastEnsemble,observationEnsemble,H)\n",
    "    \n",
    "    for n in range (N):\n",
    "        ensemble[n].set_value('state',analysesEnsemble[:,n])\n",
    "    \n",
    "    \n",
    "    #TODO track statistics metrics\n"
   ]
  },
  {
   "cell_type": "code",
   "execution_count": 46,
   "metadata": {},
   "outputs": [
    {
     "data": {
      "text/plain": [
       "158.81746499544394"
      ]
     },
     "execution_count": 46,
     "metadata": {},
     "output_type": "execute_result"
    }
   ],
   "source": [
    "np.amax(analysesEnsemble)"
   ]
  },
  {
   "cell_type": "code",
   "execution_count": null,
   "metadata": {},
   "outputs": [],
   "source": [
    "truthModel.get_current_time()"
   ]
  },
  {
   "cell_type": "code",
   "execution_count": null,
   "metadata": {},
   "outputs": [],
   "source": [
    "plt.plot(output.loc[3:3.006,'ensemble0':],'k')\n",
    "plt.plot(output.loc[3:3.006,'truth'],'r')\n",
    "plt.show()"
   ]
  },
  {
   "cell_type": "code",
   "execution_count": 61,
   "metadata": {},
   "outputs": [],
   "source": [
    "A=foreCastEnsemble\n",
    "D=observationEnsemble\n",
    "\n",
    "N=np.shape(A)[1]\n",
    "\n",
    "\n",
    "Apr = A @ (np.eye(N)-(1/N)*np.ones(N))\n",
    "Dpr = D - H(A)\n",
    "gamma=D @ (np.eye(N)-(1/N)*np.ones(N))\n",
    "\n",
    "\n",
    "#now calculate [U,S,V]=SVD(H*Apr+gamma)\n",
    "Utemp,Sigma,vH = np.linalg.svd(H(Apr)+gamma)\n",
    "#only keep p % of singular values, discard minimum of 1.\n",
    "pN = max(1, math.floor(N * (1-p)))\n",
    "\n",
    "U=np.zeros([np.shape(D)[0],N])\n",
    "\n",
    "U[0:(np.shape(Utemp)[0]),0:min((np.shape(Utemp)[1]-pN-1),np.shape(U)[1]-pN-1)]=Utemp[:,0:min((np.shape(Utemp)[1]-pN-1),np.shape(U)[1]-pN-1)]\n",
    "\n",
    "Sigma=np.diag(Sigma) @ np.diag(Sigma).T\n",
    "Sigma = np.power(np.diag(Sigma),-1)\n",
    "Sigma[-pN:] = 0\n",
    "LambdaInv = np.zeros([N,N])\n",
    "LambdaInv[0:np.shape(Sigma)[0],0:np.shape(Sigma)[0]]=np.diag(Sigma)\n",
    "\n",
    "X1=LambdaInv @ U.T\n",
    "X2=X1 @ Dpr\n",
    "X3=U @ X2\n",
    "X4=H(Apr).T @ X3\n",
    "ensembleAnalyses = A + Apr @ X4"
   ]
  },
  {
   "cell_type": "code",
   "execution_count": 55,
   "metadata": {},
   "outputs": [],
   "source": [
    "Sigma[-pN:] = 0"
   ]
  },
  {
   "cell_type": "code",
   "execution_count": 56,
   "metadata": {},
   "outputs": [
    {
     "data": {
      "text/plain": [
       "array([9.78696463e-07, 3.01824188e-05, 2.04336429e-03, 8.16555407e-03,\n",
       "       1.01789481e-02, 1.23861765e-02, 1.36920180e-02, 1.47284828e-02,\n",
       "       1.70422492e-02, 1.81886375e-02, 1.93664757e-02, 2.20771823e-02,\n",
       "       2.71789094e-02, 3.43872012e-02, 3.79323781e-02, 4.57409611e-02,\n",
       "       5.61263744e-02, 6.60489518e-02, 8.30774915e-02, 9.04191422e-02,\n",
       "       1.17893189e-01, 0.00000000e+00, 0.00000000e+00, 0.00000000e+00,\n",
       "       0.00000000e+00])"
      ]
     },
     "execution_count": 56,
     "metadata": {},
     "output_type": "execute_result"
    }
   ],
   "source": [
    "Sigma"
   ]
  },
  {
   "cell_type": "code",
   "execution_count": 60,
   "metadata": {},
   "outputs": [
    {
     "data": {
      "text/plain": [
       "158.81746499544394"
      ]
     },
     "execution_count": 60,
     "metadata": {},
     "output_type": "execute_result"
    }
   ],
   "source": [
    "np.max(ensembleAnalyses)"
   ]
  },
  {
   "cell_type": "code",
   "execution_count": null,
   "metadata": {},
   "outputs": [],
   "source": []
  },
  {
   "cell_type": "code",
   "execution_count": null,
   "metadata": {},
   "outputs": [],
   "source": []
  }
 ],
 "metadata": {
  "kernelspec": {
   "display_name": "Python 3",
   "language": "python",
   "name": "python3"
  },
  "language_info": {
   "codemirror_mode": {
    "name": "ipython",
    "version": 3
   },
   "file_extension": ".py",
   "mimetype": "text/x-python",
   "name": "python",
   "nbconvert_exporter": "python",
   "pygments_lexer": "ipython3",
   "version": "3.7.1"
  }
 },
 "nbformat": 4,
 "nbformat_minor": 2
}
